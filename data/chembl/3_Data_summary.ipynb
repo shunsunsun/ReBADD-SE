{
 "cells": [
  {
   "cell_type": "code",
   "execution_count": 1,
   "id": "fb604fd1",
   "metadata": {},
   "outputs": [],
   "source": [
    "import pandas as pd\n",
    "import matplotlib.pyplot as plt\n",
    "import seaborn as sns"
   ]
  },
  {
   "cell_type": "code",
   "execution_count": 2,
   "id": "383811cc",
   "metadata": {},
   "outputs": [],
   "source": [
    "df = pd.read_csv(\"chembl_train+test+testsf.csv\")"
   ]
  },
  {
   "cell_type": "code",
   "execution_count": 3,
   "id": "26d1647d",
   "metadata": {},
   "outputs": [
    {
     "data": {
      "text/html": [
       "<div>\n",
       "<style scoped>\n",
       "    .dataframe tbody tr th:only-of-type {\n",
       "        vertical-align: middle;\n",
       "    }\n",
       "\n",
       "    .dataframe tbody tr th {\n",
       "        vertical-align: top;\n",
       "    }\n",
       "\n",
       "    .dataframe thead th {\n",
       "        text-align: right;\n",
       "    }\n",
       "</style>\n",
       "<table border=\"1\" class=\"dataframe\">\n",
       "  <thead>\n",
       "    <tr style=\"text-align: right;\">\n",
       "      <th></th>\n",
       "      <th>smiles</th>\n",
       "      <th>length</th>\n",
       "      <th>gsk3</th>\n",
       "      <th>jnk3</th>\n",
       "      <th>sa</th>\n",
       "      <th>qed</th>\n",
       "      <th>num_atoms</th>\n",
       "      <th>num_rings</th>\n",
       "    </tr>\n",
       "  </thead>\n",
       "  <tbody>\n",
       "    <tr>\n",
       "      <th>0</th>\n",
       "      <td>c1cc(OCCCN2CCCCC2)ccc1CN1CCC2(CC1)OCCO2</td>\n",
       "      <td>39</td>\n",
       "      <td>0.01</td>\n",
       "      <td>0.00</td>\n",
       "      <td>2.692034</td>\n",
       "      <td>0.684442</td>\n",
       "      <td>27.0</td>\n",
       "      <td>4.0</td>\n",
       "    </tr>\n",
       "    <tr>\n",
       "      <th>1</th>\n",
       "      <td>CC1COC(c2cccn2Cc2ccccc2Cl)=N1</td>\n",
       "      <td>29</td>\n",
       "      <td>0.06</td>\n",
       "      <td>0.00</td>\n",
       "      <td>3.047999</td>\n",
       "      <td>0.842972</td>\n",
       "      <td>19.0</td>\n",
       "      <td>3.0</td>\n",
       "    </tr>\n",
       "    <tr>\n",
       "      <th>2</th>\n",
       "      <td>Cc1ncn(-c2ccc(C#N)nc2-c2nc3cc(-c4cnc(N)nc4)ccc...</td>\n",
       "      <td>60</td>\n",
       "      <td>0.24</td>\n",
       "      <td>0.19</td>\n",
       "      <td>3.263126</td>\n",
       "      <td>0.439582</td>\n",
       "      <td>34.0</td>\n",
       "      <td>5.0</td>\n",
       "    </tr>\n",
       "    <tr>\n",
       "      <th>3</th>\n",
       "      <td>Cc1c(-c2ccc(-c3cccnc3)cc2)nc2ccc(F)cc2c1C(=O)O</td>\n",
       "      <td>46</td>\n",
       "      <td>0.09</td>\n",
       "      <td>0.12</td>\n",
       "      <td>2.117217</td>\n",
       "      <td>0.552710</td>\n",
       "      <td>27.0</td>\n",
       "      <td>4.0</td>\n",
       "    </tr>\n",
       "    <tr>\n",
       "      <th>4</th>\n",
       "      <td>Cn1c(=O)c2c(SCC(=O)N3CCOCC3)nc(-c3ccccc3F)nc2n...</td>\n",
       "      <td>53</td>\n",
       "      <td>0.00</td>\n",
       "      <td>0.01</td>\n",
       "      <td>2.530062</td>\n",
       "      <td>0.432354</td>\n",
       "      <td>31.0</td>\n",
       "      <td>4.0</td>\n",
       "    </tr>\n",
       "    <tr>\n",
       "      <th>...</th>\n",
       "      <td>...</td>\n",
       "      <td>...</td>\n",
       "      <td>...</td>\n",
       "      <td>...</td>\n",
       "      <td>...</td>\n",
       "      <td>...</td>\n",
       "      <td>...</td>\n",
       "      <td>...</td>\n",
       "    </tr>\n",
       "    <tr>\n",
       "      <th>1480288</th>\n",
       "      <td>CNCCOc1ccc2cc3ccc(OCCNC)cc3nc2c1</td>\n",
       "      <td>32</td>\n",
       "      <td>0.01</td>\n",
       "      <td>0.01</td>\n",
       "      <td>2.260887</td>\n",
       "      <td>0.492394</td>\n",
       "      <td>24.0</td>\n",
       "      <td>3.0</td>\n",
       "    </tr>\n",
       "    <tr>\n",
       "      <th>1480289</th>\n",
       "      <td>Cc1nnc2n1-c1c(F)cc(-c3cncc(C(F)(F)F)c3)cc1CC2</td>\n",
       "      <td>45</td>\n",
       "      <td>0.12</td>\n",
       "      <td>0.00</td>\n",
       "      <td>2.810497</td>\n",
       "      <td>0.626775</td>\n",
       "      <td>25.0</td>\n",
       "      <td>4.0</td>\n",
       "    </tr>\n",
       "    <tr>\n",
       "      <th>1480290</th>\n",
       "      <td>Cc1c(Cc2cccnc2)c(=O)oc2cc(OC(=O)N(C)C)c(Cl)cc12</td>\n",
       "      <td>47</td>\n",
       "      <td>0.04</td>\n",
       "      <td>0.00</td>\n",
       "      <td>2.505654</td>\n",
       "      <td>0.653669</td>\n",
       "      <td>26.0</td>\n",
       "      <td>3.0</td>\n",
       "    </tr>\n",
       "    <tr>\n",
       "      <th>1480291</th>\n",
       "      <td>COOC1(OOCCCCCC(=O)O)CCCCCCCCCCC1</td>\n",
       "      <td>32</td>\n",
       "      <td>0.00</td>\n",
       "      <td>0.01</td>\n",
       "      <td>3.349466</td>\n",
       "      <td>0.250995</td>\n",
       "      <td>25.0</td>\n",
       "      <td>1.0</td>\n",
       "    </tr>\n",
       "    <tr>\n",
       "      <th>1480292</th>\n",
       "      <td>CN(C)CCNC(=O)c1cc(-c2ccc3ccccc3c2)nc2ccccc12</td>\n",
       "      <td>44</td>\n",
       "      <td>0.01</td>\n",
       "      <td>0.08</td>\n",
       "      <td>1.962026</td>\n",
       "      <td>0.568917</td>\n",
       "      <td>28.0</td>\n",
       "      <td>4.0</td>\n",
       "    </tr>\n",
       "  </tbody>\n",
       "</table>\n",
       "<p>1480293 rows × 8 columns</p>\n",
       "</div>"
      ],
      "text/plain": [
       "                                                    smiles  length  gsk3  \\\n",
       "0                  c1cc(OCCCN2CCCCC2)ccc1CN1CCC2(CC1)OCCO2      39  0.01   \n",
       "1                            CC1COC(c2cccn2Cc2ccccc2Cl)=N1      29  0.06   \n",
       "2        Cc1ncn(-c2ccc(C#N)nc2-c2nc3cc(-c4cnc(N)nc4)ccc...      60  0.24   \n",
       "3           Cc1c(-c2ccc(-c3cccnc3)cc2)nc2ccc(F)cc2c1C(=O)O      46  0.09   \n",
       "4        Cn1c(=O)c2c(SCC(=O)N3CCOCC3)nc(-c3ccccc3F)nc2n...      53  0.00   \n",
       "...                                                    ...     ...   ...   \n",
       "1480288                   CNCCOc1ccc2cc3ccc(OCCNC)cc3nc2c1      32  0.01   \n",
       "1480289      Cc1nnc2n1-c1c(F)cc(-c3cncc(C(F)(F)F)c3)cc1CC2      45  0.12   \n",
       "1480290    Cc1c(Cc2cccnc2)c(=O)oc2cc(OC(=O)N(C)C)c(Cl)cc12      47  0.04   \n",
       "1480291                   COOC1(OOCCCCCC(=O)O)CCCCCCCCCCC1      32  0.00   \n",
       "1480292       CN(C)CCNC(=O)c1cc(-c2ccc3ccccc3c2)nc2ccccc12      44  0.01   \n",
       "\n",
       "         jnk3        sa       qed  num_atoms  num_rings  \n",
       "0        0.00  2.692034  0.684442       27.0        4.0  \n",
       "1        0.00  3.047999  0.842972       19.0        3.0  \n",
       "2        0.19  3.263126  0.439582       34.0        5.0  \n",
       "3        0.12  2.117217  0.552710       27.0        4.0  \n",
       "4        0.01  2.530062  0.432354       31.0        4.0  \n",
       "...       ...       ...       ...        ...        ...  \n",
       "1480288  0.01  2.260887  0.492394       24.0        3.0  \n",
       "1480289  0.00  2.810497  0.626775       25.0        4.0  \n",
       "1480290  0.00  2.505654  0.653669       26.0        3.0  \n",
       "1480291  0.01  3.349466  0.250995       25.0        1.0  \n",
       "1480292  0.08  1.962026  0.568917       28.0        4.0  \n",
       "\n",
       "[1480293 rows x 8 columns]"
      ]
     },
     "execution_count": 3,
     "metadata": {},
     "output_type": "execute_result"
    }
   ],
   "source": [
    "df"
   ]
  },
  {
   "cell_type": "code",
   "execution_count": 4,
   "id": "fcbfc578",
   "metadata": {},
   "outputs": [
    {
     "data": {
      "text/plain": [
       "length       83.000000\n",
       "gsk3          0.590000\n",
       "jnk3          0.300000\n",
       "sa            5.540362\n",
       "qed           0.922863\n",
       "num_atoms    47.000000\n",
       "num_rings     7.000000\n",
       "Name: 0.99, dtype: float64"
      ]
     },
     "execution_count": 4,
     "metadata": {},
     "output_type": "execute_result"
    }
   ],
   "source": [
    "df.quantile(0.99, axis=0, numeric_only=True)"
   ]
  },
  {
   "cell_type": "code",
   "execution_count": 5,
   "id": "89cad569",
   "metadata": {},
   "outputs": [
    {
     "data": {
      "text/plain": [
       "length       71.000000\n",
       "gsk3          0.260000\n",
       "jnk3          0.110000\n",
       "sa            4.397208\n",
       "qed           0.873347\n",
       "num_atoms    41.000000\n",
       "num_rings     5.000000\n",
       "Name: 0.95, dtype: float64"
      ]
     },
     "execution_count": 5,
     "metadata": {},
     "output_type": "execute_result"
    }
   ],
   "source": [
    "df.quantile(0.95, axis=0, numeric_only=True)"
   ]
  },
  {
   "cell_type": "code",
   "execution_count": 6,
   "id": "93d7680c",
   "metadata": {},
   "outputs": [
    {
     "data": {
      "text/plain": [
       "length       65.000000\n",
       "gsk3          0.170000\n",
       "jnk3          0.070000\n",
       "sa            3.872652\n",
       "qed           0.836060\n",
       "num_atoms    37.000000\n",
       "num_rings     5.000000\n",
       "Name: 0.9, dtype: float64"
      ]
     },
     "execution_count": 6,
     "metadata": {},
     "output_type": "execute_result"
    }
   ],
   "source": [
    "df.quantile(0.9, axis=0, numeric_only=True)"
   ]
  },
  {
   "cell_type": "code",
   "execution_count": 7,
   "id": "f213e97a",
   "metadata": {},
   "outputs": [
    {
     "data": {
      "text/plain": [
       "length       55.000000\n",
       "gsk3          0.070000\n",
       "jnk3          0.030000\n",
       "sa            3.187103\n",
       "qed           0.738421\n",
       "num_atoms    32.000000\n",
       "num_rings     4.000000\n",
       "Name: 0.75, dtype: float64"
      ]
     },
     "execution_count": 7,
     "metadata": {},
     "output_type": "execute_result"
    }
   ],
   "source": [
    "df.quantile(0.75, axis=0, numeric_only=True)"
   ]
  },
  {
   "cell_type": "code",
   "execution_count": 8,
   "id": "f1cb71cf",
   "metadata": {},
   "outputs": [
    {
     "data": {
      "text/plain": [
       "gsk3    0.065337\n",
       "jnk3    0.030569\n",
       "sa      2.848885\n",
       "qed     0.565453\n",
       "dtype: float64"
      ]
     },
     "execution_count": 8,
     "metadata": {},
     "output_type": "execute_result"
    }
   ],
   "source": [
    "df.loc[:,[\"gsk3\", \"jnk3\", \"sa\", \"qed\"]].mean()"
   ]
  },
  {
   "cell_type": "code",
   "execution_count": 9,
   "id": "f20df7fe",
   "metadata": {},
   "outputs": [
    {
     "data": {
      "text/plain": [
       "gsk3    0.110845\n",
       "jnk3    0.059304\n",
       "sa      0.782444\n",
       "qed     0.209789\n",
       "dtype: float64"
      ]
     },
     "execution_count": 9,
     "metadata": {},
     "output_type": "execute_result"
    }
   ],
   "source": [
    "df.loc[:,[\"gsk3\", \"jnk3\", \"sa\", \"qed\"]].std()"
   ]
  },
  {
   "cell_type": "code",
   "execution_count": 10,
   "id": "b2a5e5db",
   "metadata": {},
   "outputs": [
    {
     "data": {
      "text/plain": [
       "gsk3    1.000000\n",
       "jnk3    1.000000\n",
       "sa      7.998898\n",
       "qed     0.948329\n",
       "dtype: float64"
      ]
     },
     "execution_count": 10,
     "metadata": {},
     "output_type": "execute_result"
    }
   ],
   "source": [
    "df.loc[:,[\"gsk3\", \"jnk3\", \"sa\", \"qed\"]].max()"
   ]
  },
  {
   "cell_type": "code",
   "execution_count": 11,
   "id": "8ae5730a",
   "metadata": {},
   "outputs": [
    {
     "data": {
      "text/plain": [
       "gsk3    0.00000\n",
       "jnk3    0.00000\n",
       "sa      1.00000\n",
       "qed     0.01279\n",
       "dtype: float64"
      ]
     },
     "execution_count": 11,
     "metadata": {},
     "output_type": "execute_result"
    }
   ],
   "source": [
    "df.loc[:,[\"gsk3\", \"jnk3\", \"sa\", \"qed\"]].min()"
   ]
  },
  {
   "cell_type": "code",
   "execution_count": null,
   "id": "c84cce9e",
   "metadata": {},
   "outputs": [],
   "source": []
  }
 ],
 "metadata": {
  "kernelspec": {
   "display_name": "Python 3 (ipykernel)",
   "language": "python",
   "name": "python3"
  },
  "language_info": {
   "codemirror_mode": {
    "name": "ipython",
    "version": 3
   },
   "file_extension": ".py",
   "mimetype": "text/x-python",
   "name": "python",
   "nbconvert_exporter": "python",
   "pygments_lexer": "ipython3",
   "version": "3.8.13"
  }
 },
 "nbformat": 4,
 "nbformat_minor": 5
}
