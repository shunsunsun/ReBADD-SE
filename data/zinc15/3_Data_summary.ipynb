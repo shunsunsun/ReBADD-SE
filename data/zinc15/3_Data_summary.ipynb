{
 "cells": [
  {
   "cell_type": "code",
   "execution_count": 1,
   "id": "fb604fd1",
   "metadata": {},
   "outputs": [],
   "source": [
    "import pandas as pd\n",
    "import matplotlib.pyplot as plt\n",
    "import seaborn as sns"
   ]
  },
  {
   "cell_type": "code",
   "execution_count": 2,
   "id": "383811cc",
   "metadata": {},
   "outputs": [],
   "source": [
    "df = pd.read_csv(\"zinc15_train_full.csv\")\n",
    "df = df.loc[:,('mwt', 'logp', 'length', 'cnt_ring', 'ba_bcl2', 'ba_bclxl', 'ba_bclw')]"
   ]
  },
  {
   "cell_type": "code",
   "execution_count": 3,
   "id": "26d1647d",
   "metadata": {},
   "outputs": [
    {
     "data": {
      "text/html": [
       "<div>\n",
       "<style scoped>\n",
       "    .dataframe tbody tr th:only-of-type {\n",
       "        vertical-align: middle;\n",
       "    }\n",
       "\n",
       "    .dataframe tbody tr th {\n",
       "        vertical-align: top;\n",
       "    }\n",
       "\n",
       "    .dataframe thead th {\n",
       "        text-align: right;\n",
       "    }\n",
       "</style>\n",
       "<table border=\"1\" class=\"dataframe\">\n",
       "  <thead>\n",
       "    <tr style=\"text-align: right;\">\n",
       "      <th></th>\n",
       "      <th>mwt</th>\n",
       "      <th>logp</th>\n",
       "      <th>length</th>\n",
       "      <th>cnt_ring</th>\n",
       "      <th>ba_bcl2</th>\n",
       "      <th>ba_bclxl</th>\n",
       "      <th>ba_bclw</th>\n",
       "    </tr>\n",
       "  </thead>\n",
       "  <tbody>\n",
       "    <tr>\n",
       "      <th>0</th>\n",
       "      <td>552.303</td>\n",
       "      <td>0.651</td>\n",
       "      <td>66</td>\n",
       "      <td>2</td>\n",
       "      <td>6.027321</td>\n",
       "      <td>5.739085</td>\n",
       "      <td>5.318719</td>\n",
       "    </tr>\n",
       "    <tr>\n",
       "      <th>1</th>\n",
       "      <td>899.081</td>\n",
       "      <td>0.463</td>\n",
       "      <td>112</td>\n",
       "      <td>9</td>\n",
       "      <td>5.350236</td>\n",
       "      <td>4.991594</td>\n",
       "      <td>4.677246</td>\n",
       "    </tr>\n",
       "    <tr>\n",
       "      <th>2</th>\n",
       "      <td>538.414</td>\n",
       "      <td>0.210</td>\n",
       "      <td>77</td>\n",
       "      <td>2</td>\n",
       "      <td>4.933928</td>\n",
       "      <td>4.714845</td>\n",
       "      <td>5.049777</td>\n",
       "    </tr>\n",
       "    <tr>\n",
       "      <th>3</th>\n",
       "      <td>502.637</td>\n",
       "      <td>0.333</td>\n",
       "      <td>59</td>\n",
       "      <td>2</td>\n",
       "      <td>5.222250</td>\n",
       "      <td>5.273129</td>\n",
       "      <td>4.764635</td>\n",
       "    </tr>\n",
       "    <tr>\n",
       "      <th>4</th>\n",
       "      <td>792.744</td>\n",
       "      <td>0.246</td>\n",
       "      <td>102</td>\n",
       "      <td>4</td>\n",
       "      <td>4.905717</td>\n",
       "      <td>4.914623</td>\n",
       "      <td>4.521364</td>\n",
       "    </tr>\n",
       "    <tr>\n",
       "      <th>...</th>\n",
       "      <td>...</td>\n",
       "      <td>...</td>\n",
       "      <td>...</td>\n",
       "      <td>...</td>\n",
       "      <td>...</td>\n",
       "      <td>...</td>\n",
       "      <td>...</td>\n",
       "    </tr>\n",
       "    <tr>\n",
       "      <th>600111</th>\n",
       "      <td>529.039</td>\n",
       "      <td>5.669</td>\n",
       "      <td>60</td>\n",
       "      <td>4</td>\n",
       "      <td>5.851861</td>\n",
       "      <td>5.564353</td>\n",
       "      <td>5.456973</td>\n",
       "    </tr>\n",
       "    <tr>\n",
       "      <th>600112</th>\n",
       "      <td>554.509</td>\n",
       "      <td>5.527</td>\n",
       "      <td>55</td>\n",
       "      <td>3</td>\n",
       "      <td>6.331471</td>\n",
       "      <td>6.066432</td>\n",
       "      <td>5.528964</td>\n",
       "    </tr>\n",
       "    <tr>\n",
       "      <th>600113</th>\n",
       "      <td>504.349</td>\n",
       "      <td>5.891</td>\n",
       "      <td>53</td>\n",
       "      <td>3</td>\n",
       "      <td>6.018271</td>\n",
       "      <td>5.518678</td>\n",
       "      <td>5.613740</td>\n",
       "    </tr>\n",
       "    <tr>\n",
       "      <th>600114</th>\n",
       "      <td>636.451</td>\n",
       "      <td>6.549</td>\n",
       "      <td>87</td>\n",
       "      <td>4</td>\n",
       "      <td>6.204907</td>\n",
       "      <td>6.185677</td>\n",
       "      <td>6.270988</td>\n",
       "    </tr>\n",
       "    <tr>\n",
       "      <th>600115</th>\n",
       "      <td>521.038</td>\n",
       "      <td>5.711</td>\n",
       "      <td>59</td>\n",
       "      <td>4</td>\n",
       "      <td>6.083230</td>\n",
       "      <td>6.598084</td>\n",
       "      <td>5.672007</td>\n",
       "    </tr>\n",
       "  </tbody>\n",
       "</table>\n",
       "<p>600116 rows × 7 columns</p>\n",
       "</div>"
      ],
      "text/plain": [
       "            mwt   logp  length  cnt_ring   ba_bcl2  ba_bclxl   ba_bclw\n",
       "0       552.303  0.651      66         2  6.027321  5.739085  5.318719\n",
       "1       899.081  0.463     112         9  5.350236  4.991594  4.677246\n",
       "2       538.414  0.210      77         2  4.933928  4.714845  5.049777\n",
       "3       502.637  0.333      59         2  5.222250  5.273129  4.764635\n",
       "4       792.744  0.246     102         4  4.905717  4.914623  4.521364\n",
       "...         ...    ...     ...       ...       ...       ...       ...\n",
       "600111  529.039  5.669      60         4  5.851861  5.564353  5.456973\n",
       "600112  554.509  5.527      55         3  6.331471  6.066432  5.528964\n",
       "600113  504.349  5.891      53         3  6.018271  5.518678  5.613740\n",
       "600114  636.451  6.549      87         4  6.204907  6.185677  6.270988\n",
       "600115  521.038  5.711      59         4  6.083230  6.598084  5.672007\n",
       "\n",
       "[600116 rows x 7 columns]"
      ]
     },
     "execution_count": 3,
     "metadata": {},
     "output_type": "execute_result"
    }
   ],
   "source": [
    "df"
   ]
  },
  {
   "cell_type": "code",
   "execution_count": 4,
   "id": "fcbfc578",
   "metadata": {},
   "outputs": [
    {
     "data": {
      "text/plain": [
       "mwt         772.306550\n",
       "logp          9.007000\n",
       "length       96.000000\n",
       "cnt_ring      7.000000\n",
       "ba_bcl2       7.900122\n",
       "ba_bclxl      7.904888\n",
       "ba_bclw       7.271631\n",
       "Name: 0.99, dtype: float64"
      ]
     },
     "execution_count": 4,
     "metadata": {},
     "output_type": "execute_result"
    }
   ],
   "source": [
    "df.quantile(0.99, axis=0)"
   ]
  },
  {
   "cell_type": "code",
   "execution_count": 5,
   "id": "89cad569",
   "metadata": {},
   "outputs": [
    {
     "data": {
      "text/plain": [
       "mwt         688.811000\n",
       "logp          7.665000\n",
       "length       84.000000\n",
       "cnt_ring      6.000000\n",
       "ba_bcl2       7.170921\n",
       "ba_bclxl      7.234683\n",
       "ba_bclw       6.804805\n",
       "Name: 0.95, dtype: float64"
      ]
     },
     "execution_count": 5,
     "metadata": {},
     "output_type": "execute_result"
    }
   ],
   "source": [
    "df.quantile(0.95, axis=0)"
   ]
  },
  {
   "cell_type": "code",
   "execution_count": 6,
   "id": "93d7680c",
   "metadata": {},
   "outputs": [
    {
     "data": {
      "text/plain": [
       "mwt         651.884500\n",
       "logp          7.102000\n",
       "length       79.000000\n",
       "cnt_ring      6.000000\n",
       "ba_bcl2       6.835523\n",
       "ba_bclxl      6.896268\n",
       "ba_bclw       6.539080\n",
       "Name: 0.9, dtype: float64"
      ]
     },
     "execution_count": 6,
     "metadata": {},
     "output_type": "execute_result"
    }
   ],
   "source": [
    "df.quantile(0.9, axis=0)"
   ]
  },
  {
   "cell_type": "code",
   "execution_count": 7,
   "id": "f213e97a",
   "metadata": {},
   "outputs": [
    {
     "data": {
      "text/plain": [
       "mwt         597.289000\n",
       "logp          6.228000\n",
       "length       72.000000\n",
       "cnt_ring      5.000000\n",
       "ba_bcl2       6.359998\n",
       "ba_bclxl      6.378022\n",
       "ba_bclw       6.102008\n",
       "Name: 0.75, dtype: float64"
      ]
     },
     "execution_count": 7,
     "metadata": {},
     "output_type": "execute_result"
    }
   ],
   "source": [
    "df.quantile(0.75, axis=0)"
   ]
  },
  {
   "cell_type": "code",
   "execution_count": 8,
   "id": "f1cb71cf",
   "metadata": {},
   "outputs": [
    {
     "data": {
      "text/plain": [
       "ba_bcl2     5.986288\n",
       "ba_bclxl    5.882168\n",
       "ba_bclw     5.702810\n",
       "dtype: float64"
      ]
     },
     "execution_count": 8,
     "metadata": {},
     "output_type": "execute_result"
    }
   ],
   "source": [
    "df.loc[:,[\"ba_bcl2\", \"ba_bclxl\", \"ba_bclw\"]].mean()"
   ]
  },
  {
   "cell_type": "code",
   "execution_count": 9,
   "id": "f20df7fe",
   "metadata": {},
   "outputs": [
    {
     "data": {
      "text/plain": [
       "ba_bcl2     0.665718\n",
       "ba_bclxl    0.789411\n",
       "ba_bclw     0.622243\n",
       "dtype: float64"
      ]
     },
     "execution_count": 9,
     "metadata": {},
     "output_type": "execute_result"
    }
   ],
   "source": [
    "df.loc[:,[\"ba_bcl2\", \"ba_bclxl\", \"ba_bclw\"]].std()"
   ]
  },
  {
   "cell_type": "code",
   "execution_count": 10,
   "id": "b2a5e5db",
   "metadata": {},
   "outputs": [
    {
     "data": {
      "text/plain": [
       "ba_bcl2     10.395411\n",
       "ba_bclxl     9.775959\n",
       "ba_bclw      8.541430\n",
       "dtype: float64"
      ]
     },
     "execution_count": 10,
     "metadata": {},
     "output_type": "execute_result"
    }
   ],
   "source": [
    "df.loc[:,[\"ba_bcl2\", \"ba_bclxl\", \"ba_bclw\"]].max()"
   ]
  },
  {
   "cell_type": "code",
   "execution_count": 11,
   "id": "8ae5730a",
   "metadata": {},
   "outputs": [
    {
     "data": {
      "text/plain": [
       "ba_bcl2     2.591157\n",
       "ba_bclxl    2.313086\n",
       "ba_bclw     2.644025\n",
       "dtype: float64"
      ]
     },
     "execution_count": 11,
     "metadata": {},
     "output_type": "execute_result"
    }
   ],
   "source": [
    "df.loc[:,[\"ba_bcl2\", \"ba_bclxl\", \"ba_bclw\"]].min()"
   ]
  },
  {
   "cell_type": "code",
   "execution_count": null,
   "id": "c84cce9e",
   "metadata": {},
   "outputs": [],
   "source": []
  }
 ],
 "metadata": {
  "kernelspec": {
   "display_name": "Python 3 (ipykernel)",
   "language": "python",
   "name": "python3"
  },
  "language_info": {
   "codemirror_mode": {
    "name": "ipython",
    "version": 3
   },
   "file_extension": ".py",
   "mimetype": "text/x-python",
   "name": "python",
   "nbconvert_exporter": "python",
   "pygments_lexer": "ipython3",
   "version": "3.8.13"
  }
 },
 "nbformat": 4,
 "nbformat_minor": 5
}
