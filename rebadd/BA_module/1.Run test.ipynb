{
 "cells": [
  {
   "cell_type": "code",
   "execution_count": 2,
   "id": "antique-jesus",
   "metadata": {},
   "outputs": [],
   "source": [
    "import pandas as pd\n",
    "import numpy as np\n",
    "import pickle\n",
    "import torch\n",
    "from module.RNN import *\n",
    "from module.DNN import *\n",
    "from module.helpers import *"
   ]
  },
  {
   "cell_type": "code",
   "execution_count": 3,
   "id": "widespread-intersection",
   "metadata": {},
   "outputs": [],
   "source": [
    "def split_data(data, frac, seed):\n",
    "    \n",
    "    train_frac, val_frac, test_frac = frac\n",
    "    test = data.sample(frac = test_frac, replace = False, random_state = seed)\n",
    "    \n",
    "    train_val = data[~data.index.isin(test.index)]\n",
    "    val = train_val.sample(frac = val_frac/(1-test_frac), replace = False, random_state = seed)\n",
    "    train = train_val[~train_val.index.isin(val.index)]\n",
    "    \n",
    "    return train.reset_index(drop = True), val.reset_index(drop = True), test.reset_index(drop = True)"
   ]
  },
  {
   "cell_type": "markdown",
   "id": "judicial-lightning",
   "metadata": {},
   "source": [
    "### 1. Davis dataset"
   ]
  },
  {
   "cell_type": "markdown",
   "id": "dress-pattern",
   "metadata": {},
   "source": [
    "#### 1.1 Data load"
   ]
  },
  {
   "cell_type": "code",
   "execution_count": 4,
   "id": "fifteen-campbell",
   "metadata": {},
   "outputs": [
    {
     "name": "stdout",
     "output_type": "stream",
     "text": [
      "(30056, 5)\n"
     ]
    },
    {
     "data": {
      "text/html": [
       "<div>\n",
       "<style scoped>\n",
       "    .dataframe tbody tr th:only-of-type {\n",
       "        vertical-align: middle;\n",
       "    }\n",
       "\n",
       "    .dataframe tbody tr th {\n",
       "        vertical-align: top;\n",
       "    }\n",
       "\n",
       "    .dataframe thead th {\n",
       "        text-align: right;\n",
       "    }\n",
       "</style>\n",
       "<table border=\"1\" class=\"dataframe\">\n",
       "  <thead>\n",
       "    <tr style=\"text-align: right;\">\n",
       "      <th></th>\n",
       "      <th>Sequence</th>\n",
       "      <th>SMILES</th>\n",
       "      <th>pKa</th>\n",
       "      <th>Protein</th>\n",
       "      <th>Compound</th>\n",
       "    </tr>\n",
       "  </thead>\n",
       "  <tbody>\n",
       "    <tr>\n",
       "      <th>0</th>\n",
       "      <td>MKKFFDSRREQGGSGLGSGSSGGGGSTSGLGSGYIGRVFGIGRQQV...</td>\n",
       "      <td>Cc1[nH]nc2ccc(-c3cncc(OCC(N)Cc4ccccc4)c3)cc12</td>\n",
       "      <td>7.37</td>\n",
       "      <td>AAK1</td>\n",
       "      <td>11314340</td>\n",
       "    </tr>\n",
       "    <tr>\n",
       "      <th>1</th>\n",
       "      <td>MKKFFDSRREQGGSGLGSGSSGGGGSTSGLGSGYIGRVFGIGRQQV...</td>\n",
       "      <td>CC(C)(C)c1cc(NC(=O)Nc2ccc(-c3cn4c(n3)sc3cc(OCC...</td>\n",
       "      <td>5.00</td>\n",
       "      <td>AAK1</td>\n",
       "      <td>24889392</td>\n",
       "    </tr>\n",
       "    <tr>\n",
       "      <th>2</th>\n",
       "      <td>MKKFFDSRREQGGSGLGSGSSGGGGSTSGLGSGYIGRVFGIGRQQV...</td>\n",
       "      <td>CCN1CCN(Cc2ccc(NC(=O)Nc3ccc(Oc4cc(NC)ncn4)cc3)...</td>\n",
       "      <td>5.00</td>\n",
       "      <td>AAK1</td>\n",
       "      <td>11409972</td>\n",
       "    </tr>\n",
       "    <tr>\n",
       "      <th>3</th>\n",
       "      <td>MKKFFDSRREQGGSGLGSGSSGGGGSTSGLGSGYIGRVFGIGRQQV...</td>\n",
       "      <td>O=C(NC1CCNCC1)c1[nH]ncc1NC(=O)c1c(Cl)cccc1Cl</td>\n",
       "      <td>5.00</td>\n",
       "      <td>AAK1</td>\n",
       "      <td>11338033</td>\n",
       "    </tr>\n",
       "    <tr>\n",
       "      <th>4</th>\n",
       "      <td>MKKFFDSRREQGGSGLGSGSSGGGGSTSGLGSGYIGRVFGIGRQQV...</td>\n",
       "      <td>CN(C)CC=CC(=O)Nc1cc2c(Nc3ccc(F)c(Cl)c3)ncnc2cc...</td>\n",
       "      <td>5.00</td>\n",
       "      <td>AAK1</td>\n",
       "      <td>10184653</td>\n",
       "    </tr>\n",
       "  </tbody>\n",
       "</table>\n",
       "</div>"
      ],
      "text/plain": [
       "                                            Sequence  \\\n",
       "0  MKKFFDSRREQGGSGLGSGSSGGGGSTSGLGSGYIGRVFGIGRQQV...   \n",
       "1  MKKFFDSRREQGGSGLGSGSSGGGGSTSGLGSGYIGRVFGIGRQQV...   \n",
       "2  MKKFFDSRREQGGSGLGSGSSGGGGSTSGLGSGYIGRVFGIGRQQV...   \n",
       "3  MKKFFDSRREQGGSGLGSGSSGGGGSTSGLGSGYIGRVFGIGRQQV...   \n",
       "4  MKKFFDSRREQGGSGLGSGSSGGGGSTSGLGSGYIGRVFGIGRQQV...   \n",
       "\n",
       "                                              SMILES   pKa Protein  Compound  \n",
       "0      Cc1[nH]nc2ccc(-c3cncc(OCC(N)Cc4ccccc4)c3)cc12  7.37    AAK1  11314340  \n",
       "1  CC(C)(C)c1cc(NC(=O)Nc2ccc(-c3cn4c(n3)sc3cc(OCC...  5.00    AAK1  24889392  \n",
       "2  CCN1CCN(Cc2ccc(NC(=O)Nc3ccc(Oc4cc(NC)ncn4)cc3)...  5.00    AAK1  11409972  \n",
       "3       O=C(NC1CCNCC1)c1[nH]ncc1NC(=O)c1c(Cl)cccc1Cl  5.00    AAK1  11338033  \n",
       "4  CN(C)CC=CC(=O)Nc1cc2c(Nc3ccc(F)c(Cl)c3)ncnc2cc...  5.00    AAK1  10184653  "
      ]
     },
     "execution_count": 4,
     "metadata": {},
     "output_type": "execute_result"
    }
   ],
   "source": [
    "interactions_file_path = \"./data/davis_data.tsv\"  \n",
    "interactions_data = pd.read_csv(interactions_file_path, sep = \"\\t\")\n",
    "print(interactions_data.shape)\n",
    "interactions_data.head()"
   ]
  },
  {
   "cell_type": "code",
   "execution_count": 5,
   "id": "unable-queue",
   "metadata": {},
   "outputs": [],
   "source": [
    "train_data, val_data, test_data = split_data(interactions_data, frac = [0.7,0.1,0.2], seed = 0)"
   ]
  },
  {
   "cell_type": "markdown",
   "id": "still-croatia",
   "metadata": {},
   "source": [
    "#### 1.2 Model load"
   ]
  },
  {
   "cell_type": "code",
   "execution_count": 16,
   "id": "nutritional-player",
   "metadata": {},
   "outputs": [
    {
     "name": "stdout",
     "output_type": "stream",
     "text": [
      "Current cuda device  2\n"
     ]
    }
   ],
   "source": [
    "USE_CUDA = True\n",
    "GPU_NUM = 2\n",
    "\n",
    "if USE_CUDA:\n",
    "    device = torch.device(f'cuda:{GPU_NUM}' if torch.cuda.is_available() else 'cpu')\n",
    "    torch.cuda.set_device(device)\n",
    "    print ('Current cuda device ', torch.cuda.current_device())"
   ]
  },
  {
   "cell_type": "code",
   "execution_count": 17,
   "id": "affected-multiple",
   "metadata": {},
   "outputs": [],
   "source": [
    "model_path = \"./model/train_davis.pth\"  "
   ]
  },
  {
   "cell_type": "code",
   "execution_count": 18,
   "id": "convertible-arthritis",
   "metadata": {},
   "outputs": [],
   "source": [
    "regressor = load_checkpoint_eval(model_path, USE_CUDA, device)"
   ]
  },
  {
   "cell_type": "code",
   "execution_count": 19,
   "id": "parliamentary-demand",
   "metadata": {},
   "outputs": [],
   "source": [
    "with open(\"./model/Sequence_voca.pkl\", \"rb\") as f:\n",
    "    Protein_voca = pickle.load(f)\n",
    "\n",
    "with open(\"./model/SMILES_voca.pkl\", \"rb\") as f:\n",
    "    SMILES_voca = pickle.load(f)"
   ]
  },
  {
   "cell_type": "markdown",
   "id": "dressed-abuse",
   "metadata": {},
   "source": [
    "#### 1.3 Run validation"
   ]
  },
  {
   "cell_type": "code",
   "execution_count": 20,
   "id": "framed-photograph",
   "metadata": {},
   "outputs": [],
   "source": [
    "val_dataset = test_Dataset(val_data.iloc[:, [0, 1]].values)\n",
    "val_labels = val_data.iloc[:, 2].values\n",
    "val_loader = DataLoader(dataset = val_dataset, batch_size = 400, collate_fn = Mycall(Protein_voca, SMILES_voca, USE_CUDA))"
   ]
  },
  {
   "cell_type": "code",
   "execution_count": 21,
   "id": "varied-behalf",
   "metadata": {},
   "outputs": [],
   "source": [
    "Test_module = Test(regressor, val_loader)\n",
    "y_pred = Test_module.predict()"
   ]
  },
  {
   "cell_type": "code",
   "execution_count": 22,
   "id": "armed-productivity",
   "metadata": {},
   "outputs": [],
   "source": [
    "RMSE, PCC, CI, r2 = get_regression_result(val_labels, y_pred)"
   ]
  },
  {
   "cell_type": "code",
   "execution_count": 23,
   "id": "greater-construction",
   "metadata": {},
   "outputs": [
    {
     "name": "stdout",
     "output_type": "stream",
     "text": [
      "\t[Val] total samples: 3006, RMSE: 0.501, PCC: 0.832, CI: 0.880, r2: 0.687\n"
     ]
    }
   ],
   "source": [
    "print(f\"\\t[Val] total samples: {len(y_pred)}, RMSE: {RMSE:.3f}, PCC: {PCC:.3f}, CI: {CI:.3f}, r2: {r2:.3f}\")"
   ]
  },
  {
   "cell_type": "markdown",
   "id": "specialized-murder",
   "metadata": {},
   "source": [
    "#### 1.4 Run test"
   ]
  },
  {
   "cell_type": "code",
   "execution_count": 13,
   "id": "expressed-thunder",
   "metadata": {},
   "outputs": [],
   "source": [
    "test_dataset = test_Dataset(test_data.iloc[:,[0, 1]].values)\n",
    "test_labels = test_data.iloc[:, 2].values\n",
    "test_loader = DataLoader(dataset = test_dataset, batch_size = 400, collate_fn = Mycall(Protein_voca, SMILES_voca, USE_CUDA))"
   ]
  },
  {
   "cell_type": "code",
   "execution_count": 14,
   "id": "novel-interstate",
   "metadata": {},
   "outputs": [],
   "source": [
    "Test_module = Test(regressor, test_loader)\n",
    "y_pred = Test_module.predict()"
   ]
  },
  {
   "cell_type": "code",
   "execution_count": 15,
   "id": "equipped-algorithm",
   "metadata": {},
   "outputs": [],
   "source": [
    "RMSE, PCC, CI, r2 = get_regression_result(test_labels, y_pred)"
   ]
  },
  {
   "cell_type": "code",
   "execution_count": 16,
   "id": "trying-washington",
   "metadata": {},
   "outputs": [
    {
     "name": "stdout",
     "output_type": "stream",
     "text": [
      "\t[Test] total samples: 6011, RMSE: 0.509, PCC: 0.824, CI: 0.877, r2: 0.669\n"
     ]
    }
   ],
   "source": [
    "print(f\"\\t[Test] total samples: {len(y_pred)}, RMSE: {RMSE:.3f}, PCC: {PCC:.3f}, CI: {CI:.3f}, r2: {r2:.3f}\")"
   ]
  },
  {
   "cell_type": "markdown",
   "id": "certain-kernel",
   "metadata": {},
   "source": [
    "### 2. KIBA dataset"
   ]
  },
  {
   "cell_type": "markdown",
   "id": "governing-amazon",
   "metadata": {},
   "source": [
    "#### 2.1 Data load"
   ]
  },
  {
   "cell_type": "code",
   "execution_count": 17,
   "id": "northern-cradle",
   "metadata": {},
   "outputs": [
    {
     "name": "stdout",
     "output_type": "stream",
     "text": [
      "(118254, 5)\n"
     ]
    },
    {
     "data": {
      "text/html": [
       "<div>\n",
       "<style scoped>\n",
       "    .dataframe tbody tr th:only-of-type {\n",
       "        vertical-align: middle;\n",
       "    }\n",
       "\n",
       "    .dataframe tbody tr th {\n",
       "        vertical-align: top;\n",
       "    }\n",
       "\n",
       "    .dataframe thead th {\n",
       "        text-align: right;\n",
       "    }\n",
       "</style>\n",
       "<table border=\"1\" class=\"dataframe\">\n",
       "  <thead>\n",
       "    <tr style=\"text-align: right;\">\n",
       "      <th></th>\n",
       "      <th>Sequence</th>\n",
       "      <th>SMILES</th>\n",
       "      <th>pKa</th>\n",
       "      <th>Protein</th>\n",
       "      <th>Compound</th>\n",
       "    </tr>\n",
       "  </thead>\n",
       "  <tbody>\n",
       "    <tr>\n",
       "      <th>0</th>\n",
       "      <td>MTVKTEAAKGTLTYSRMRGMVAILIAFMKQRRMGLNDFIQKIANNS...</td>\n",
       "      <td>COc1cc2c(cc1Cl)C(c1ccc(Cl)c(Cl)c1)=NCC2</td>\n",
       "      <td>11.1</td>\n",
       "      <td>O00141</td>\n",
       "      <td>CHEMBL1087421</td>\n",
       "    </tr>\n",
       "    <tr>\n",
       "      <th>1</th>\n",
       "      <td>MTVKTEAAKGTLTYSRMRGMVAILIAFMKQRRMGLNDFIQKIANNS...</td>\n",
       "      <td>COc1cc2c(cc1Cl)C(c1cccc(Cl)c1)=NCC2</td>\n",
       "      <td>11.1</td>\n",
       "      <td>O00141</td>\n",
       "      <td>CHEMBL1088633</td>\n",
       "    </tr>\n",
       "    <tr>\n",
       "      <th>2</th>\n",
       "      <td>MTVKTEAAKGTLTYSRMRGMVAILIAFMKQRRMGLNDFIQKIANNS...</td>\n",
       "      <td>O=C(Cc1ccccc1)Nc1cccc(-c2nc3sccn3c2-c2ccnc(Nc3...</td>\n",
       "      <td>12.1</td>\n",
       "      <td>O00141</td>\n",
       "      <td>CHEMBL1090360</td>\n",
       "    </tr>\n",
       "    <tr>\n",
       "      <th>3</th>\n",
       "      <td>MTVKTEAAKGTLTYSRMRGMVAILIAFMKQRRMGLNDFIQKIANNS...</td>\n",
       "      <td>Nc1nccc(-c2ccc3c(N)n[nH]c3c2)n1</td>\n",
       "      <td>11.1</td>\n",
       "      <td>O00141</td>\n",
       "      <td>CHEMBL1688215</td>\n",
       "    </tr>\n",
       "    <tr>\n",
       "      <th>4</th>\n",
       "      <td>MTVKTEAAKGTLTYSRMRGMVAILIAFMKQRRMGLNDFIQKIANNS...</td>\n",
       "      <td>CNc1cncc(-c2c[nH]c(=O)c(NC(=O)c3ccc(N4CCCC4CN4...</td>\n",
       "      <td>12.1</td>\n",
       "      <td>O00141</td>\n",
       "      <td>CHEMBL1765781</td>\n",
       "    </tr>\n",
       "  </tbody>\n",
       "</table>\n",
       "</div>"
      ],
      "text/plain": [
       "                                            Sequence  \\\n",
       "0  MTVKTEAAKGTLTYSRMRGMVAILIAFMKQRRMGLNDFIQKIANNS...   \n",
       "1  MTVKTEAAKGTLTYSRMRGMVAILIAFMKQRRMGLNDFIQKIANNS...   \n",
       "2  MTVKTEAAKGTLTYSRMRGMVAILIAFMKQRRMGLNDFIQKIANNS...   \n",
       "3  MTVKTEAAKGTLTYSRMRGMVAILIAFMKQRRMGLNDFIQKIANNS...   \n",
       "4  MTVKTEAAKGTLTYSRMRGMVAILIAFMKQRRMGLNDFIQKIANNS...   \n",
       "\n",
       "                                              SMILES   pKa Protein  \\\n",
       "0            COc1cc2c(cc1Cl)C(c1ccc(Cl)c(Cl)c1)=NCC2  11.1  O00141   \n",
       "1                COc1cc2c(cc1Cl)C(c1cccc(Cl)c1)=NCC2  11.1  O00141   \n",
       "2  O=C(Cc1ccccc1)Nc1cccc(-c2nc3sccn3c2-c2ccnc(Nc3...  12.1  O00141   \n",
       "3                    Nc1nccc(-c2ccc3c(N)n[nH]c3c2)n1  11.1  O00141   \n",
       "4  CNc1cncc(-c2c[nH]c(=O)c(NC(=O)c3ccc(N4CCCC4CN4...  12.1  O00141   \n",
       "\n",
       "        Compound  \n",
       "0  CHEMBL1087421  \n",
       "1  CHEMBL1088633  \n",
       "2  CHEMBL1090360  \n",
       "3  CHEMBL1688215  \n",
       "4  CHEMBL1765781  "
      ]
     },
     "execution_count": 17,
     "metadata": {},
     "output_type": "execute_result"
    }
   ],
   "source": [
    "interactions_file_path = \"./data/kiba_data.tsv\"    \n",
    "interactions_data = pd.read_csv(interactions_file_path, sep = \"\\t\")\n",
    "print(interactions_data.shape)\n",
    "interactions_data.head()"
   ]
  },
  {
   "cell_type": "code",
   "execution_count": 18,
   "id": "headed-exploration",
   "metadata": {},
   "outputs": [],
   "source": [
    "train_data, val_data, test_data = split_data(interactions_data, frac = [0.7,0.1,0.2], seed = 0)"
   ]
  },
  {
   "cell_type": "markdown",
   "id": "silver-tractor",
   "metadata": {},
   "source": [
    "#### 2.2 Model load"
   ]
  },
  {
   "cell_type": "code",
   "execution_count": 19,
   "id": "retired-rebecca",
   "metadata": {},
   "outputs": [
    {
     "name": "stdout",
     "output_type": "stream",
     "text": [
      "Current cuda device  2\n"
     ]
    }
   ],
   "source": [
    "USE_CUDA = True\n",
    "GPU_NUM = 2\n",
    "\n",
    "if USE_CUDA:\n",
    "    device = torch.device(f'cuda:{GPU_NUM}' if torch.cuda.is_available() else 'cpu')\n",
    "    torch.cuda.set_device(device)\n",
    "    print ('Current cuda device ', torch.cuda.current_device())"
   ]
  },
  {
   "cell_type": "code",
   "execution_count": 20,
   "id": "comfortable-myrtle",
   "metadata": {},
   "outputs": [],
   "source": [
    "model_path = \"./model/train_kiba.pth\"  "
   ]
  },
  {
   "cell_type": "code",
   "execution_count": 21,
   "id": "southwest-surfing",
   "metadata": {},
   "outputs": [],
   "source": [
    "regressor = load_checkpoint_eval(model_path, USE_CUDA, device)"
   ]
  },
  {
   "cell_type": "code",
   "execution_count": 22,
   "id": "strange-benjamin",
   "metadata": {},
   "outputs": [],
   "source": [
    "with open(\"./model/Sequence_voca.pkl\", \"rb\") as f:\n",
    "    Protein_voca = pickle.load(f)\n",
    "\n",
    "with open(\"./model/SMILES_voca.pkl\", \"rb\") as f:\n",
    "    SMILES_voca = pickle.load(f)"
   ]
  },
  {
   "cell_type": "markdown",
   "id": "jewish-detail",
   "metadata": {},
   "source": [
    "#### 2.3 Run validation"
   ]
  },
  {
   "cell_type": "code",
   "execution_count": 23,
   "id": "alike-coral",
   "metadata": {},
   "outputs": [],
   "source": [
    "val_dataset = test_Dataset(val_data.iloc[:, [0, 1]].values)\n",
    "val_labels = val_data.iloc[:, 2].values\n",
    "val_loader = DataLoader(dataset = val_dataset, batch_size = 400, collate_fn = Mycall(Protein_voca, SMILES_voca, USE_CUDA))"
   ]
  },
  {
   "cell_type": "code",
   "execution_count": 24,
   "id": "christian-bangladesh",
   "metadata": {},
   "outputs": [],
   "source": [
    "Test_module = Test(regressor, val_loader)\n",
    "y_pred = Test_module.predict()"
   ]
  },
  {
   "cell_type": "code",
   "execution_count": 25,
   "id": "proved-trick",
   "metadata": {},
   "outputs": [],
   "source": [
    "RMSE, PCC, CI, r2 = get_regression_result(val_labels, y_pred)"
   ]
  },
  {
   "cell_type": "code",
   "execution_count": 26,
   "id": "chinese-casino",
   "metadata": {},
   "outputs": [
    {
     "name": "stdout",
     "output_type": "stream",
     "text": [
      "\t[Val] total samples: 11825, RMSE: 0.413, PCC: 0.873, CI: 0.880, r2: 0.761\n"
     ]
    }
   ],
   "source": [
    "print(f\"\\t[Val] total samples: {len(y_pred)}, RMSE: {RMSE:.3f}, PCC: {PCC:.3f}, CI: {CI:.3f}, r2: {r2:.3f}\")"
   ]
  },
  {
   "cell_type": "markdown",
   "id": "distant-prague",
   "metadata": {},
   "source": [
    "#### 2.4 Run test"
   ]
  },
  {
   "cell_type": "code",
   "execution_count": 27,
   "id": "strong-arrest",
   "metadata": {},
   "outputs": [],
   "source": [
    "test_dataset = test_Dataset(test_data.iloc[:,[0, 1]].values)\n",
    "test_labels = test_data.iloc[:, 2].values\n",
    "test_loader = DataLoader(dataset = test_dataset, batch_size = 400, collate_fn = Mycall(Protein_voca, SMILES_voca, USE_CUDA))"
   ]
  },
  {
   "cell_type": "code",
   "execution_count": 28,
   "id": "joint-postage",
   "metadata": {},
   "outputs": [],
   "source": [
    "Test_module = Test(regressor, test_loader)\n",
    "y_pred = Test_module.predict()"
   ]
  },
  {
   "cell_type": "code",
   "execution_count": 29,
   "id": "furnished-harvest",
   "metadata": {},
   "outputs": [],
   "source": [
    "RMSE, PCC, CI, r2 = get_regression_result(test_labels, y_pred)"
   ]
  },
  {
   "cell_type": "code",
   "execution_count": 30,
   "id": "municipal-parish",
   "metadata": {},
   "outputs": [
    {
     "name": "stdout",
     "output_type": "stream",
     "text": [
      "\t[Test] total samples: 23651, RMSE: 0.406, PCC: 0.873, CI: 0.879, r2: 0.762\n"
     ]
    }
   ],
   "source": [
    "print(f\"\\t[Test] total samples: {len(y_pred)}, RMSE: {RMSE:.3f}, PCC: {PCC:.3f}, CI: {CI:.3f}, r2: {r2:.3f}\")"
   ]
  },
  {
   "cell_type": "markdown",
   "id": "public-welcome",
   "metadata": {},
   "source": [
    "### 3. GLASS dataset"
   ]
  },
  {
   "cell_type": "markdown",
   "id": "annoying-drive",
   "metadata": {},
   "source": [
    "#### 3.1 Data load"
   ]
  },
  {
   "cell_type": "code",
   "execution_count": 41,
   "id": "wired-string",
   "metadata": {},
   "outputs": [
    {
     "name": "stdout",
     "output_type": "stream",
     "text": [
      "(140011, 5)\n"
     ]
    },
    {
     "data": {
      "text/html": [
       "<div>\n",
       "<style scoped>\n",
       "    .dataframe tbody tr th:only-of-type {\n",
       "        vertical-align: middle;\n",
       "    }\n",
       "\n",
       "    .dataframe tbody tr th {\n",
       "        vertical-align: top;\n",
       "    }\n",
       "\n",
       "    .dataframe thead th {\n",
       "        text-align: right;\n",
       "    }\n",
       "</style>\n",
       "<table border=\"1\" class=\"dataframe\">\n",
       "  <thead>\n",
       "    <tr style=\"text-align: right;\">\n",
       "      <th></th>\n",
       "      <th>Sequence</th>\n",
       "      <th>SMILES</th>\n",
       "      <th>pKa</th>\n",
       "      <th>Protein</th>\n",
       "      <th>Compound</th>\n",
       "    </tr>\n",
       "  </thead>\n",
       "  <tbody>\n",
       "    <tr>\n",
       "      <th>0</th>\n",
       "      <td>AIAAVITFLILFTIFGNALVILAVLTSRSLRAPQNLFLVSLAAADI...</td>\n",
       "      <td>Brc1c(NC2=NCCN2)ccc2nccnc12</td>\n",
       "      <td>7.66</td>\n",
       "      <td>O77715</td>\n",
       "      <td>2435</td>\n",
       "    </tr>\n",
       "    <tr>\n",
       "      <th>1</th>\n",
       "      <td>AIAAVITFLILFTIFGNALVILAVLTSRSLRAPQNLFLVSLAAADI...</td>\n",
       "      <td>CC(C)=CCOc1ccc(Cl)c2c1CCN(C)CC2</td>\n",
       "      <td>7.31</td>\n",
       "      <td>O77715</td>\n",
       "      <td>122295</td>\n",
       "    </tr>\n",
       "    <tr>\n",
       "      <th>2</th>\n",
       "      <td>AIAAVITFLILFTIFGNALVILAVLTSRSLRAPQNLFLVSLAAADI...</td>\n",
       "      <td>CN(C)CCCN1c2ccccc2Sc2ccc(Cl)cc21</td>\n",
       "      <td>7.50</td>\n",
       "      <td>O77715</td>\n",
       "      <td>2726</td>\n",
       "    </tr>\n",
       "    <tr>\n",
       "      <th>3</th>\n",
       "      <td>AIAAVITFLILFTIFGNALVILAVLTSRSLRAPQNLFLVSLAAADI...</td>\n",
       "      <td>CN1CC(Cn2ccnc2-c2ccccc2)CC2c3cccc4[nH]c(Br)c(c...</td>\n",
       "      <td>9.37</td>\n",
       "      <td>O77715</td>\n",
       "      <td>10344262</td>\n",
       "    </tr>\n",
       "    <tr>\n",
       "      <th>4</th>\n",
       "      <td>AIAAVITFLILFTIFGNALVILAVLTSRSLRAPQNLFLVSLAAADI...</td>\n",
       "      <td>COC(=O)C1C(O)CCC2CN3CCc4c([nH]c5ccccc45)C3CC21</td>\n",
       "      <td>9.74</td>\n",
       "      <td>O77715</td>\n",
       "      <td>8969</td>\n",
       "    </tr>\n",
       "  </tbody>\n",
       "</table>\n",
       "</div>"
      ],
      "text/plain": [
       "                                            Sequence  \\\n",
       "0  AIAAVITFLILFTIFGNALVILAVLTSRSLRAPQNLFLVSLAAADI...   \n",
       "1  AIAAVITFLILFTIFGNALVILAVLTSRSLRAPQNLFLVSLAAADI...   \n",
       "2  AIAAVITFLILFTIFGNALVILAVLTSRSLRAPQNLFLVSLAAADI...   \n",
       "3  AIAAVITFLILFTIFGNALVILAVLTSRSLRAPQNLFLVSLAAADI...   \n",
       "4  AIAAVITFLILFTIFGNALVILAVLTSRSLRAPQNLFLVSLAAADI...   \n",
       "\n",
       "                                              SMILES   pKa Protein  Compound  \n",
       "0                        Brc1c(NC2=NCCN2)ccc2nccnc12  7.66  O77715      2435  \n",
       "1                    CC(C)=CCOc1ccc(Cl)c2c1CCN(C)CC2  7.31  O77715    122295  \n",
       "2                   CN(C)CCCN1c2ccccc2Sc2ccc(Cl)cc21  7.50  O77715      2726  \n",
       "3  CN1CC(Cn2ccnc2-c2ccccc2)CC2c3cccc4[nH]c(Br)c(c...  9.37  O77715  10344262  \n",
       "4     COC(=O)C1C(O)CCC2CN3CCc4c([nH]c5ccccc45)C3CC21  9.74  O77715      8969  "
      ]
     },
     "execution_count": 41,
     "metadata": {},
     "output_type": "execute_result"
    }
   ],
   "source": [
    "interactions_file_path = \"./data/glass_data.tsv\"  \n",
    "interactions_data = pd.read_csv(interactions_file_path, sep = \"\\t\")\n",
    "print(interactions_data.shape)\n",
    "interactions_data.head()"
   ]
  },
  {
   "cell_type": "code",
   "execution_count": 42,
   "id": "satisfied-failure",
   "metadata": {},
   "outputs": [],
   "source": [
    "train_data, val_data, test_data = split_data(interactions_data, frac = [0.7,0.1,0.2], seed = 0)"
   ]
  },
  {
   "cell_type": "markdown",
   "id": "educational-algorithm",
   "metadata": {},
   "source": [
    "#### 3.2 Model load"
   ]
  },
  {
   "cell_type": "code",
   "execution_count": 43,
   "id": "recognized-experiment",
   "metadata": {},
   "outputs": [
    {
     "name": "stdout",
     "output_type": "stream",
     "text": [
      "Current cuda device  2\n"
     ]
    }
   ],
   "source": [
    "USE_CUDA = True\n",
    "GPU_NUM = 2\n",
    "\n",
    "if USE_CUDA:\n",
    "    device = torch.device(f'cuda:{GPU_NUM}' if torch.cuda.is_available() else 'cpu')\n",
    "    torch.cuda.set_device(device)\n",
    "    print ('Current cuda device ', torch.cuda.current_device())"
   ]
  },
  {
   "cell_type": "code",
   "execution_count": 44,
   "id": "tough-percentage",
   "metadata": {},
   "outputs": [],
   "source": [
    "model_path = \"./model/train_glass.pth\" "
   ]
  },
  {
   "cell_type": "code",
   "execution_count": 45,
   "id": "joined-pontiac",
   "metadata": {},
   "outputs": [],
   "source": [
    "regressor = load_checkpoint_eval(model_path, USE_CUDA, device)"
   ]
  },
  {
   "cell_type": "code",
   "execution_count": 46,
   "id": "overall-crown",
   "metadata": {},
   "outputs": [],
   "source": [
    "with open(\"./model/Sequence_voca.pkl\", \"rb\") as f:\n",
    "    Protein_voca = pickle.load(f)\n",
    "\n",
    "with open(\"./model/SMILES_voca.pkl\", \"rb\") as f:\n",
    "    SMILES_voca = pickle.load(f)"
   ]
  },
  {
   "cell_type": "markdown",
   "id": "offshore-watts",
   "metadata": {},
   "source": [
    "#### 3.3 Run validation"
   ]
  },
  {
   "cell_type": "code",
   "execution_count": 47,
   "id": "defensive-parks",
   "metadata": {},
   "outputs": [],
   "source": [
    "val_dataset = test_Dataset(val_data.iloc[:, [0, 1]].values)\n",
    "val_labels = val_data.iloc[:, 2].values\n",
    "val_loader = DataLoader(dataset = val_dataset, batch_size = 400, collate_fn = Mycall(Protein_voca, SMILES_voca, USE_CUDA))"
   ]
  },
  {
   "cell_type": "code",
   "execution_count": 48,
   "id": "actual-injection",
   "metadata": {},
   "outputs": [],
   "source": [
    "Test_module = Test(regressor, val_loader)\n",
    "y_pred = Test_module.predict()"
   ]
  },
  {
   "cell_type": "code",
   "execution_count": 49,
   "id": "smoking-irish",
   "metadata": {},
   "outputs": [],
   "source": [
    "RMSE, PCC, CI, r2 = get_regression_result(val_labels, y_pred)"
   ]
  },
  {
   "cell_type": "code",
   "execution_count": 50,
   "id": "proprietary-detection",
   "metadata": {},
   "outputs": [
    {
     "name": "stdout",
     "output_type": "stream",
     "text": [
      "\t[Val] total samples: 14001, RMSE: 0.769, PCC: 0.807, CI: 0.807, r2: 0.649\n"
     ]
    }
   ],
   "source": [
    "print(f\"\\t[Val] total samples: {len(y_pred)}, RMSE: {RMSE:.3f}, PCC: {PCC:.3f}, CI: {CI:.3f}, r2: {r2:.3f}\")"
   ]
  },
  {
   "cell_type": "markdown",
   "id": "considered-sample",
   "metadata": {},
   "source": [
    "#### 3.4 Run test"
   ]
  },
  {
   "cell_type": "code",
   "execution_count": 51,
   "id": "ancient-investigator",
   "metadata": {},
   "outputs": [],
   "source": [
    "test_dataset = test_Dataset(test_data.iloc[:,[0, 1]].values)\n",
    "test_labels = test_data.iloc[:, 2].values\n",
    "test_loader = DataLoader(dataset = test_dataset, batch_size = 400, collate_fn = Mycall(Protein_voca, SMILES_voca, USE_CUDA))"
   ]
  },
  {
   "cell_type": "code",
   "execution_count": 52,
   "id": "accompanied-practitioner",
   "metadata": {},
   "outputs": [],
   "source": [
    "Test_module = Test(regressor, test_loader)\n",
    "y_pred = Test_module.predict()"
   ]
  },
  {
   "cell_type": "code",
   "execution_count": 53,
   "id": "baking-buddy",
   "metadata": {},
   "outputs": [],
   "source": [
    "RMSE, PCC, CI, r2 = get_regression_result(test_labels, y_pred)"
   ]
  },
  {
   "cell_type": "code",
   "execution_count": 54,
   "id": "annoying-qualification",
   "metadata": {},
   "outputs": [
    {
     "name": "stdout",
     "output_type": "stream",
     "text": [
      "\t[Test] total samples: 28002, RMSE: 0.779, PCC: 0.805, CI: 0.806, r2: 0.645\n"
     ]
    }
   ],
   "source": [
    "print(f\"\\t[Test] total samples: {len(y_pred)}, RMSE: {RMSE:.3f}, PCC: {PCC:.3f}, CI: {CI:.3f}, r2: {r2:.3f}\")"
   ]
  },
  {
   "cell_type": "markdown",
   "id": "timely-batch",
   "metadata": {},
   "source": [
    "### 4. BindingDB"
   ]
  },
  {
   "cell_type": "markdown",
   "id": "noted-buffer",
   "metadata": {},
   "source": [
    "#### 4.1 Data load"
   ]
  },
  {
   "cell_type": "code",
   "execution_count": 55,
   "id": "secondary-interaction",
   "metadata": {},
   "outputs": [
    {
     "name": "stdout",
     "output_type": "stream",
     "text": [
      "(281215, 11)\n"
     ]
    },
    {
     "data": {
      "text/html": [
       "<div>\n",
       "<style scoped>\n",
       "    .dataframe tbody tr th:only-of-type {\n",
       "        vertical-align: middle;\n",
       "    }\n",
       "\n",
       "    .dataframe tbody tr th {\n",
       "        vertical-align: top;\n",
       "    }\n",
       "\n",
       "    .dataframe thead th {\n",
       "        text-align: right;\n",
       "    }\n",
       "</style>\n",
       "<table border=\"1\" class=\"dataframe\">\n",
       "  <thead>\n",
       "    <tr style=\"text-align: right;\">\n",
       "      <th></th>\n",
       "      <th>Sequence</th>\n",
       "      <th>SMILES</th>\n",
       "      <th>pKa</th>\n",
       "      <th>Protein</th>\n",
       "      <th>PubChem CID</th>\n",
       "      <th>ChEBI ID of Ligand</th>\n",
       "      <th>ChEMBL ID of Ligand</th>\n",
       "      <th>DrugBank ID of Ligand</th>\n",
       "      <th>IUPHAR_GRAC ID of Ligand</th>\n",
       "      <th>KEGG ID of Ligand</th>\n",
       "      <th>ZINC ID of Ligand</th>\n",
       "    </tr>\n",
       "  </thead>\n",
       "  <tbody>\n",
       "    <tr>\n",
       "      <th>0</th>\n",
       "      <td>AASGVATNTPTANDEEYITPVTIGGTTLNLNFDTGSADLWVFSTEL...</td>\n",
       "      <td>CCOC(=O)CP(=O)(O)C(CC(C)C)NC(=O)C(NC(=O)C(NC(=...</td>\n",
       "      <td>4.70</td>\n",
       "      <td>P00798</td>\n",
       "      <td>44461503</td>\n",
       "      <td>NaN</td>\n",
       "      <td>CHEMBL82364</td>\n",
       "      <td>NaN</td>\n",
       "      <td>NaN</td>\n",
       "      <td>NaN</td>\n",
       "      <td>ZINC26490045</td>\n",
       "    </tr>\n",
       "    <tr>\n",
       "      <th>1</th>\n",
       "      <td>AASGVATNTPTANDEEYITPVTIGGTTLNLNFDTGSADLWVFSTEL...</td>\n",
       "      <td>CNC(=O)C(F)(F)C(O)(O)C(CC(C)C)NC(=O)C(NC(=O)C(...</td>\n",
       "      <td>6.00</td>\n",
       "      <td>P00798</td>\n",
       "      <td>44461580</td>\n",
       "      <td>NaN</td>\n",
       "      <td>CHEMBL309445</td>\n",
       "      <td>NaN</td>\n",
       "      <td>NaN</td>\n",
       "      <td>NaN</td>\n",
       "      <td>ZINC26498109</td>\n",
       "    </tr>\n",
       "    <tr>\n",
       "      <th>2</th>\n",
       "      <td>AASGVATNTPTANDEEYITPVTIGGTTLNLNFDTGSADLWVFSTEL...</td>\n",
       "      <td>CNC(=O)C(F)(F)C(O)C(CC(C)C)NC(=O)C(NC(=O)C(NC(...</td>\n",
       "      <td>5.00</td>\n",
       "      <td>P00798</td>\n",
       "      <td>44461589</td>\n",
       "      <td>NaN</td>\n",
       "      <td>CHEMBL313988</td>\n",
       "      <td>NaN</td>\n",
       "      <td>NaN</td>\n",
       "      <td>NaN</td>\n",
       "      <td>ZINC36177642</td>\n",
       "    </tr>\n",
       "    <tr>\n",
       "      <th>3</th>\n",
       "      <td>AASGVATNTPTANDEEYITPVTIGGTTLNLNFDTGSADLWVFSTEL...</td>\n",
       "      <td>COC(=O)C(Cc1ccccc1)OP(=O)(O)C(CC(C)C)NC(=O)C(C...</td>\n",
       "      <td>4.38</td>\n",
       "      <td>P00798</td>\n",
       "      <td>44461743</td>\n",
       "      <td>NaN</td>\n",
       "      <td>CHEMBL309930</td>\n",
       "      <td>NaN</td>\n",
       "      <td>NaN</td>\n",
       "      <td>NaN</td>\n",
       "      <td>NaN</td>\n",
       "    </tr>\n",
       "    <tr>\n",
       "      <th>4</th>\n",
       "      <td>AASGVATNTPTANDEEYITPVTIGGTTLNLNFDTGSADLWVFSTEL...</td>\n",
       "      <td>COC(=O)C(Cc1ccccc1)OP(=O)(O)C(CC(C)C)NC(=O)C(N...</td>\n",
       "      <td>5.55</td>\n",
       "      <td>P00798</td>\n",
       "      <td>44461788</td>\n",
       "      <td>NaN</td>\n",
       "      <td>CHEMBL314391</td>\n",
       "      <td>NaN</td>\n",
       "      <td>NaN</td>\n",
       "      <td>NaN</td>\n",
       "      <td>ZINC26501082</td>\n",
       "    </tr>\n",
       "  </tbody>\n",
       "</table>\n",
       "</div>"
      ],
      "text/plain": [
       "                                            Sequence  \\\n",
       "0  AASGVATNTPTANDEEYITPVTIGGTTLNLNFDTGSADLWVFSTEL...   \n",
       "1  AASGVATNTPTANDEEYITPVTIGGTTLNLNFDTGSADLWVFSTEL...   \n",
       "2  AASGVATNTPTANDEEYITPVTIGGTTLNLNFDTGSADLWVFSTEL...   \n",
       "3  AASGVATNTPTANDEEYITPVTIGGTTLNLNFDTGSADLWVFSTEL...   \n",
       "4  AASGVATNTPTANDEEYITPVTIGGTTLNLNFDTGSADLWVFSTEL...   \n",
       "\n",
       "                                              SMILES   pKa Protein  \\\n",
       "0  CCOC(=O)CP(=O)(O)C(CC(C)C)NC(=O)C(NC(=O)C(NC(=...  4.70  P00798   \n",
       "1  CNC(=O)C(F)(F)C(O)(O)C(CC(C)C)NC(=O)C(NC(=O)C(...  6.00  P00798   \n",
       "2  CNC(=O)C(F)(F)C(O)C(CC(C)C)NC(=O)C(NC(=O)C(NC(...  5.00  P00798   \n",
       "3  COC(=O)C(Cc1ccccc1)OP(=O)(O)C(CC(C)C)NC(=O)C(C...  4.38  P00798   \n",
       "4  COC(=O)C(Cc1ccccc1)OP(=O)(O)C(CC(C)C)NC(=O)C(N...  5.55  P00798   \n",
       "\n",
       "  PubChem CID ChEBI ID of Ligand ChEMBL ID of Ligand DrugBank ID of Ligand  \\\n",
       "0    44461503                NaN         CHEMBL82364                   NaN   \n",
       "1    44461580                NaN        CHEMBL309445                   NaN   \n",
       "2    44461589                NaN        CHEMBL313988                   NaN   \n",
       "3    44461743                NaN        CHEMBL309930                   NaN   \n",
       "4    44461788                NaN        CHEMBL314391                   NaN   \n",
       "\n",
       "  IUPHAR_GRAC ID of Ligand KEGG ID of Ligand ZINC ID of Ligand  \n",
       "0                      NaN               NaN      ZINC26490045  \n",
       "1                      NaN               NaN      ZINC26498109  \n",
       "2                      NaN               NaN      ZINC36177642  \n",
       "3                      NaN               NaN               NaN  \n",
       "4                      NaN               NaN      ZINC26501082  "
      ]
     },
     "execution_count": 55,
     "metadata": {},
     "output_type": "execute_result"
    }
   ],
   "source": [
    "interactions_file_path = \"./data/bindingdb_data.tsv\"    \n",
    "interactions_data = pd.read_csv(interactions_file_path, sep = \"\\t\")\n",
    "print(interactions_data.shape)\n",
    "interactions_data.head()"
   ]
  },
  {
   "cell_type": "code",
   "execution_count": 56,
   "id": "broadband-bundle",
   "metadata": {},
   "outputs": [],
   "source": [
    "train_data, val_data, test_data = split_data(interactions_data, frac = [0.7,0.1,0.2], seed = 0)"
   ]
  },
  {
   "cell_type": "markdown",
   "id": "postal-black",
   "metadata": {},
   "source": [
    "#### 4.2 Model load"
   ]
  },
  {
   "cell_type": "code",
   "execution_count": 57,
   "id": "funded-graphic",
   "metadata": {},
   "outputs": [
    {
     "name": "stdout",
     "output_type": "stream",
     "text": [
      "Current cuda device  2\n"
     ]
    }
   ],
   "source": [
    "USE_CUDA = True\n",
    "GPU_NUM = 2\n",
    "\n",
    "if USE_CUDA:\n",
    "    device = torch.device(f'cuda:{GPU_NUM}' if torch.cuda.is_available() else 'cpu')\n",
    "    torch.cuda.set_device(device)\n",
    "    print ('Current cuda device ', torch.cuda.current_device())"
   ]
  },
  {
   "cell_type": "code",
   "execution_count": 58,
   "id": "equivalent-ethnic",
   "metadata": {},
   "outputs": [],
   "source": [
    "model_path = \"./model/train_bindingdb.pth\"   "
   ]
  },
  {
   "cell_type": "code",
   "execution_count": 59,
   "id": "direct-sauce",
   "metadata": {},
   "outputs": [],
   "source": [
    "regressor = load_checkpoint_eval(model_path, USE_CUDA, device)"
   ]
  },
  {
   "cell_type": "code",
   "execution_count": 60,
   "id": "handed-camera",
   "metadata": {},
   "outputs": [],
   "source": [
    "with open(\"./model/Sequence_voca.pkl\", \"rb\") as f:\n",
    "    Protein_voca = pickle.load(f)\n",
    "\n",
    "with open(\"./model/SMILES_voca.pkl\", \"rb\") as f:\n",
    "    SMILES_voca = pickle.load(f)"
   ]
  },
  {
   "cell_type": "markdown",
   "id": "lesser-mentor",
   "metadata": {},
   "source": [
    "#### 4.3 Run validation"
   ]
  },
  {
   "cell_type": "code",
   "execution_count": 61,
   "id": "sealed-prophet",
   "metadata": {},
   "outputs": [],
   "source": [
    "val_dataset = test_Dataset(val_data.iloc[:, [0, 1]].values)\n",
    "val_labels = val_data.iloc[:, 2].values\n",
    "val_loader = DataLoader(dataset = val_dataset, batch_size = 400, collate_fn = Mycall(Protein_voca, SMILES_voca, USE_CUDA))"
   ]
  },
  {
   "cell_type": "code",
   "execution_count": 62,
   "id": "outstanding-billy",
   "metadata": {},
   "outputs": [],
   "source": [
    "Test_module = Test(regressor, val_loader)\n",
    "y_pred = Test_module.predict()"
   ]
  },
  {
   "cell_type": "code",
   "execution_count": 63,
   "id": "periodic-arena",
   "metadata": {},
   "outputs": [],
   "source": [
    "RMSE, PCC, CI, r2 = get_regression_result(val_labels, y_pred)"
   ]
  },
  {
   "cell_type": "code",
   "execution_count": 64,
   "id": "fabulous-teaching",
   "metadata": {},
   "outputs": [
    {
     "name": "stdout",
     "output_type": "stream",
     "text": [
      "\t[Val] total samples: 28122, RMSE: 0.830, PCC: 0.829, CI: 0.816, r2: 0.685\n"
     ]
    }
   ],
   "source": [
    "print(f\"\\t[Val] total samples: {len(y_pred)}, RMSE: {RMSE:.3f}, PCC: {PCC:.3f}, CI: {CI:.3f}, r2: {r2:.3f}\")"
   ]
  },
  {
   "cell_type": "markdown",
   "id": "modified-weight",
   "metadata": {},
   "source": [
    "#### 4.4 Run test"
   ]
  },
  {
   "cell_type": "code",
   "execution_count": 65,
   "id": "wired-wheat",
   "metadata": {},
   "outputs": [],
   "source": [
    "test_dataset = test_Dataset(test_data.iloc[:,[0, 1]].values)\n",
    "test_labels = test_data.iloc[:, 2].values\n",
    "test_loader = DataLoader(dataset = test_dataset, batch_size = 400, collate_fn = Mycall(Protein_voca, SMILES_voca, USE_CUDA))"
   ]
  },
  {
   "cell_type": "code",
   "execution_count": 66,
   "id": "bronze-liability",
   "metadata": {},
   "outputs": [],
   "source": [
    "Test_module = Test(regressor, test_loader)\n",
    "y_pred = Test_module.predict()"
   ]
  },
  {
   "cell_type": "code",
   "execution_count": 67,
   "id": "viral-penetration",
   "metadata": {},
   "outputs": [],
   "source": [
    "RMSE, PCC, CI, r2 = get_regression_result(test_labels, y_pred)"
   ]
  },
  {
   "cell_type": "code",
   "execution_count": 68,
   "id": "upper-wealth",
   "metadata": {},
   "outputs": [
    {
     "name": "stdout",
     "output_type": "stream",
     "text": [
      "\t[Test] total samples: 56243, RMSE: 0.827, PCC: 0.828, CI: 0.816, r2: 0.684\n"
     ]
    }
   ],
   "source": [
    "print(f\"\\t[Test] total samples: {len(y_pred)}, RMSE: {RMSE:.3f}, PCC: {PCC:.3f}, CI: {CI:.3f}, r2: {r2:.3f}\")"
   ]
  },
  {
   "cell_type": "markdown",
   "id": "young-encounter",
   "metadata": {},
   "source": [
    "### 5. Merged dataset"
   ]
  },
  {
   "cell_type": "markdown",
   "id": "attractive-bathroom",
   "metadata": {},
   "source": [
    "#### 5.1 Data load"
   ]
  },
  {
   "cell_type": "code",
   "execution_count": 3,
   "id": "demanding-freight",
   "metadata": {},
   "outputs": [
    {
     "name": "stdout",
     "output_type": "stream",
     "text": [
      "(331187, 11)\n"
     ]
    },
    {
     "data": {
      "text/html": [
       "<div>\n",
       "<style scoped>\n",
       "    .dataframe tbody tr th:only-of-type {\n",
       "        vertical-align: middle;\n",
       "    }\n",
       "\n",
       "    .dataframe tbody tr th {\n",
       "        vertical-align: top;\n",
       "    }\n",
       "\n",
       "    .dataframe thead th {\n",
       "        text-align: right;\n",
       "    }\n",
       "</style>\n",
       "<table border=\"1\" class=\"dataframe\">\n",
       "  <thead>\n",
       "    <tr style=\"text-align: right;\">\n",
       "      <th></th>\n",
       "      <th>Sequence</th>\n",
       "      <th>SMILES</th>\n",
       "      <th>pKa</th>\n",
       "      <th>Protein</th>\n",
       "      <th>PubChem CID</th>\n",
       "      <th>ChEBI ID of Ligand</th>\n",
       "      <th>ChEMBL ID of Ligand</th>\n",
       "      <th>DrugBank ID of Ligand</th>\n",
       "      <th>IUPHAR_GRAC ID of Ligand</th>\n",
       "      <th>KEGG ID of Ligand</th>\n",
       "      <th>ZINC ID of Ligand</th>\n",
       "    </tr>\n",
       "  </thead>\n",
       "  <tbody>\n",
       "    <tr>\n",
       "      <th>0</th>\n",
       "      <td>AARDSGTGGGSEKMRGSGPRGAGRRRPPSGGGDTPITPASLAGCYS...</td>\n",
       "      <td>C#Cc1cccc(Nc2ncnc3cc(OCCOC)c(OCCOC)cc23)c1</td>\n",
       "      <td>6.15</td>\n",
       "      <td>EPHA5</td>\n",
       "      <td>176870</td>\n",
       "      <td>NaN</td>\n",
       "      <td>NaN</td>\n",
       "      <td>NaN</td>\n",
       "      <td>NaN</td>\n",
       "      <td>NaN</td>\n",
       "      <td>NaN</td>\n",
       "    </tr>\n",
       "    <tr>\n",
       "      <th>1</th>\n",
       "      <td>AARDSGTGGGSEKMRGSGPRGAGRRRPPSGGGDTPITPASLAGCYS...</td>\n",
       "      <td>C=CC(=O)Nc1cc2c(Nc3ccc(F)c(Cl)c3)ncnc2cc1OCCCN...</td>\n",
       "      <td>5.92</td>\n",
       "      <td>EPHA5</td>\n",
       "      <td>156414</td>\n",
       "      <td>NaN</td>\n",
       "      <td>NaN</td>\n",
       "      <td>NaN</td>\n",
       "      <td>NaN</td>\n",
       "      <td>NaN</td>\n",
       "      <td>NaN</td>\n",
       "    </tr>\n",
       "    <tr>\n",
       "      <th>2</th>\n",
       "      <td>AARDSGTGGGSEKMRGSGPRGAGRRRPPSGGGDTPITPASLAGCYS...</td>\n",
       "      <td>CC(C)(C)c1cc(NC(=O)Nc2ccc(-c3cn4c(n3)sc3cc(OCC...</td>\n",
       "      <td>5.00</td>\n",
       "      <td>EPHA5</td>\n",
       "      <td>24889392</td>\n",
       "      <td>NaN</td>\n",
       "      <td>NaN</td>\n",
       "      <td>NaN</td>\n",
       "      <td>NaN</td>\n",
       "      <td>NaN</td>\n",
       "      <td>NaN</td>\n",
       "    </tr>\n",
       "    <tr>\n",
       "      <th>3</th>\n",
       "      <td>AARDSGTGGGSEKMRGSGPRGAGRRRPPSGGGDTPITPASLAGCYS...</td>\n",
       "      <td>CC(C)(C)c1cnc(CSc2cnc(NC(=O)C3CCNCC3)s2)o1</td>\n",
       "      <td>5.00</td>\n",
       "      <td>EPHA5</td>\n",
       "      <td>3025986</td>\n",
       "      <td>NaN</td>\n",
       "      <td>NaN</td>\n",
       "      <td>NaN</td>\n",
       "      <td>NaN</td>\n",
       "      <td>NaN</td>\n",
       "      <td>NaN</td>\n",
       "    </tr>\n",
       "    <tr>\n",
       "      <th>4</th>\n",
       "      <td>AARDSGTGGGSEKMRGSGPRGAGRRRPPSGGGDTPITPASLAGCYS...</td>\n",
       "      <td>CC(C)N1NC(=C2C=c3cc(O)ccc3=N2)c2c(N)ncnc21</td>\n",
       "      <td>5.51</td>\n",
       "      <td>EPHA5</td>\n",
       "      <td>25243800</td>\n",
       "      <td>NaN</td>\n",
       "      <td>NaN</td>\n",
       "      <td>NaN</td>\n",
       "      <td>NaN</td>\n",
       "      <td>NaN</td>\n",
       "      <td>NaN</td>\n",
       "    </tr>\n",
       "  </tbody>\n",
       "</table>\n",
       "</div>"
      ],
      "text/plain": [
       "                                            Sequence  \\\n",
       "0  AARDSGTGGGSEKMRGSGPRGAGRRRPPSGGGDTPITPASLAGCYS...   \n",
       "1  AARDSGTGGGSEKMRGSGPRGAGRRRPPSGGGDTPITPASLAGCYS...   \n",
       "2  AARDSGTGGGSEKMRGSGPRGAGRRRPPSGGGDTPITPASLAGCYS...   \n",
       "3  AARDSGTGGGSEKMRGSGPRGAGRRRPPSGGGDTPITPASLAGCYS...   \n",
       "4  AARDSGTGGGSEKMRGSGPRGAGRRRPPSGGGDTPITPASLAGCYS...   \n",
       "\n",
       "                                              SMILES   pKa Protein  \\\n",
       "0         C#Cc1cccc(Nc2ncnc3cc(OCCOC)c(OCCOC)cc23)c1  6.15   EPHA5   \n",
       "1  C=CC(=O)Nc1cc2c(Nc3ccc(F)c(Cl)c3)ncnc2cc1OCCCN...  5.92   EPHA5   \n",
       "2  CC(C)(C)c1cc(NC(=O)Nc2ccc(-c3cn4c(n3)sc3cc(OCC...  5.00   EPHA5   \n",
       "3         CC(C)(C)c1cnc(CSc2cnc(NC(=O)C3CCNCC3)s2)o1  5.00   EPHA5   \n",
       "4         CC(C)N1NC(=C2C=c3cc(O)ccc3=N2)c2c(N)ncnc21  5.51   EPHA5   \n",
       "\n",
       "  PubChem CID ChEBI ID of Ligand ChEMBL ID of Ligand DrugBank ID of Ligand  \\\n",
       "0      176870                NaN                 NaN                   NaN   \n",
       "1      156414                NaN                 NaN                   NaN   \n",
       "2    24889392                NaN                 NaN                   NaN   \n",
       "3     3025986                NaN                 NaN                   NaN   \n",
       "4    25243800                NaN                 NaN                   NaN   \n",
       "\n",
       "  IUPHAR_GRAC ID of Ligand KEGG ID of Ligand ZINC ID of Ligand  \n",
       "0                      NaN               NaN               NaN  \n",
       "1                      NaN               NaN               NaN  \n",
       "2                      NaN               NaN               NaN  \n",
       "3                      NaN               NaN               NaN  \n",
       "4                      NaN               NaN               NaN  "
      ]
     },
     "execution_count": 3,
     "metadata": {},
     "output_type": "execute_result"
    }
   ],
   "source": [
    "interactions_file_path = \"./data/merged_data.tsv\" \n",
    "interactions_data = pd.read_csv(interactions_file_path, sep = \"\\t\")\n",
    "print(interactions_data.shape)\n",
    "interactions_data.head() "
   ]
  },
  {
   "cell_type": "code",
   "execution_count": 4,
   "id": "atlantic-architecture",
   "metadata": {},
   "outputs": [],
   "source": [
    "train_data, val_data, test_data = split_data(interactions_data, frac = [0.7,0.1,0.2], seed = 0)"
   ]
  },
  {
   "cell_type": "markdown",
   "id": "electric-policy",
   "metadata": {},
   "source": [
    "#### 5.2 Model load"
   ]
  },
  {
   "cell_type": "code",
   "execution_count": 5,
   "id": "yellow-kinase",
   "metadata": {},
   "outputs": [
    {
     "name": "stdout",
     "output_type": "stream",
     "text": [
      "Current cuda device  2\n"
     ]
    }
   ],
   "source": [
    "USE_CUDA = True\n",
    "GPU_NUM = 2\n",
    "\n",
    "if USE_CUDA:\n",
    "    device = torch.device(f'cuda:{GPU_NUM}' if torch.cuda.is_available() else 'cpu')\n",
    "    torch.cuda.set_device(device)\n",
    "    print ('Current cuda device ', torch.cuda.current_device())"
   ]
  },
  {
   "cell_type": "code",
   "execution_count": 6,
   "id": "engaging-dimension",
   "metadata": {},
   "outputs": [],
   "source": [
    "model_path = \"./model/train_merged.pth\" "
   ]
  },
  {
   "cell_type": "code",
   "execution_count": 7,
   "id": "varying-trust",
   "metadata": {},
   "outputs": [],
   "source": [
    "regressor = load_checkpoint_eval(model_path, USE_CUDA, device)"
   ]
  },
  {
   "cell_type": "code",
   "execution_count": 8,
   "id": "victorian-quantity",
   "metadata": {},
   "outputs": [],
   "source": [
    "with open(\"./model/Sequence_voca.pkl\", \"rb\") as f:\n",
    "    Protein_voca = pickle.load(f)\n",
    "\n",
    "with open(\"./model/SMILES_voca.pkl\", \"rb\") as f:\n",
    "    SMILES_voca = pickle.load(f)"
   ]
  },
  {
   "cell_type": "markdown",
   "id": "vocal-incidence",
   "metadata": {},
   "source": [
    "#### 5.3 Run validation"
   ]
  },
  {
   "cell_type": "code",
   "execution_count": 9,
   "id": "south-alexander",
   "metadata": {},
   "outputs": [],
   "source": [
    "val_dataset = test_Dataset(val_data.iloc[:, [0, 1]].values)\n",
    "val_labels = val_data.iloc[:, 2].values\n",
    "val_loader = DataLoader(dataset = val_dataset, batch_size = 400, collate_fn = Mycall(Protein_voca, SMILES_voca, USE_CUDA))"
   ]
  },
  {
   "cell_type": "code",
   "execution_count": 10,
   "id": "deluxe-conservative",
   "metadata": {},
   "outputs": [],
   "source": [
    "Test_module = Test(regressor, val_loader)\n",
    "y_pred = Test_module.predict()"
   ]
  },
  {
   "cell_type": "code",
   "execution_count": 11,
   "id": "tested-crash",
   "metadata": {},
   "outputs": [],
   "source": [
    "RMSE, PCC, CI, r2 = get_regression_result(val_labels, y_pred)"
   ]
  },
  {
   "cell_type": "code",
   "execution_count": 12,
   "id": "constant-generation",
   "metadata": {},
   "outputs": [
    {
     "name": "stdout",
     "output_type": "stream",
     "text": [
      "\t[Val] total samples: 33119, RMSE: 0.799, PCC: 0.848, CI: 0.831, r2: 0.716\n"
     ]
    }
   ],
   "source": [
    "print(f\"\\t[Val] total samples: {len(y_pred)}, RMSE: {RMSE:.3f}, PCC: {PCC:.3f}, CI: {CI:.3f}, r2: {r2:.3f}\")"
   ]
  },
  {
   "cell_type": "markdown",
   "id": "american-active",
   "metadata": {},
   "source": [
    "#### 5.4 Run test"
   ]
  },
  {
   "cell_type": "code",
   "execution_count": 13,
   "id": "norwegian-roulette",
   "metadata": {},
   "outputs": [],
   "source": [
    "test_dataset = test_Dataset(test_data.iloc[:,[0, 1]].values)\n",
    "test_labels = test_data.iloc[:, 2].values\n",
    "test_loader = DataLoader(dataset = test_dataset, batch_size = 400, collate_fn = Mycall(Protein_voca, SMILES_voca, USE_CUDA))"
   ]
  },
  {
   "cell_type": "code",
   "execution_count": 14,
   "id": "close-writing",
   "metadata": {},
   "outputs": [],
   "source": [
    "Test_module = Test(regressor, test_loader)\n",
    "y_pred = Test_module.predict()"
   ]
  },
  {
   "cell_type": "code",
   "execution_count": 15,
   "id": "opened-nothing",
   "metadata": {},
   "outputs": [],
   "source": [
    "RMSE, PCC, CI, r2 = get_regression_result(test_labels, y_pred)"
   ]
  },
  {
   "cell_type": "code",
   "execution_count": 16,
   "id": "threatened-viewer",
   "metadata": {},
   "outputs": [
    {
     "name": "stdout",
     "output_type": "stream",
     "text": [
      "\t[Test] total samples: 66237, RMSE: 0.805, PCC: 0.844, CI: 0.831, r2: 0.710\n"
     ]
    }
   ],
   "source": [
    "print(f\"\\t[Test] total samples: {len(y_pred)}, RMSE: {RMSE:.3f}, PCC: {PCC:.3f}, CI: {CI:.3f}, r2: {r2:.3f}\")"
   ]
  },
  {
   "cell_type": "code",
   "execution_count": null,
   "id": "adolescent-october",
   "metadata": {},
   "outputs": [],
   "source": []
  },
  {
   "cell_type": "code",
   "execution_count": null,
   "id": "cloudy-abraham",
   "metadata": {},
   "outputs": [],
   "source": []
  }
 ],
 "metadata": {
  "kernelspec": {
   "display_name": "Python 3 (ipykernel)",
   "language": "python",
   "name": "python3"
  },
  "language_info": {
   "codemirror_mode": {
    "name": "ipython",
    "version": 3
   },
   "file_extension": ".py",
   "mimetype": "text/x-python",
   "name": "python",
   "nbconvert_exporter": "python",
   "pygments_lexer": "ipython3",
   "version": "3.8.10"
  }
 },
 "nbformat": 4,
 "nbformat_minor": 5
}
